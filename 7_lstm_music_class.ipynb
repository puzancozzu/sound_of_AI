{
  "nbformat": 4,
  "nbformat_minor": 0,
  "metadata": {
    "colab": {
      "provenance": [],
      "gpuType": "T4"
    },
    "kernelspec": {
      "name": "python3",
      "display_name": "Python 3"
    },
    "language_info": {
      "name": "python"
    },
    "accelerator": "GPU"
  },
  "cells": [
    {
      "cell_type": "code",
      "source": [
        "import json\n",
        "import numpy as np\n",
        "from sklearn.model_selection import train_test_split\n",
        "\n",
        "import tensorflow.keras as keras"
      ],
      "metadata": {
        "id": "e1TCtZj3V2L7"
      },
      "execution_count": 1,
      "outputs": []
    },
    {
      "cell_type": "code",
      "source": [
        "##data loader\n",
        "\n",
        "def load_data(data_path):\n",
        "  ''' loads training dataset from json file'''\n",
        "\n",
        "  with open(data_path, \"r\") as fp:\n",
        "    data = json.load(fp)\n",
        "\n",
        "  x = np.array(data[\"mfcc\"])\n",
        "  y = np.array(data[\"labels\"])\n",
        "\n",
        "  return x,y\n"
      ],
      "metadata": {
        "id": "QaTScD6DWB3N"
      },
      "execution_count": 2,
      "outputs": []
    },
    {
      "cell_type": "code",
      "source": [
        "### building the RNN_LSTM model arch\n",
        "\n",
        "def build_model(input_shape):\n",
        "\n",
        "  ## create model\n",
        "  model = keras.Sequential()\n",
        "\n",
        "  ## 2 LSTM layer\n",
        "\n",
        "  ## LSTM(num_of_layers, input_shape, return_sequences='return boolean')\n",
        "  ## return_sequence (True) - 2 RNN : Seq to Seq : input is sequence and outuput is also sequences- output at each time steps\n",
        "  ##                 (False)seq to vector  - sequence input, output is vector - output at only last time step\n",
        "  ## why seq to seq ? pass these seq to 2nd LSTM layer\n",
        "  model.add(keras.layers.LSTM(64, input_shape=input_shape, return_sequences=True))\n",
        "\n",
        "  model.add(keras.layers.LSTM(64))   ## sequence to vector RNN layer\n",
        "\n",
        "  ## dense layer\n",
        "  model.add(keras.layers.Dense(64, activation='relu'))\n",
        "  model.add(keras.layers.Dropout(0.3))        ## to reduce overfitting\n",
        "\n",
        "  # ## output layer\n",
        "  # ## we have 10 genre - so 10 nuerons in output layer -10 Gerne class\n",
        "  model.add(keras.layers.Dense(10, activation='softmax'))\n",
        "\n",
        "\n",
        "  return model\n"
      ],
      "metadata": {
        "id": "ja05DSshXs5s"
      },
      "execution_count": 63,
      "outputs": []
    },
    {
      "cell_type": "code",
      "source": [
        "## dataset prepration\n",
        "\n",
        "def prepare_datasets(test_size, validation_size):\n",
        "\n",
        "  ## load data\n",
        "  x, y = load_data(DATA_PATH)\n",
        "\n",
        "  ## create train/test split\n",
        "  X_train, X_test, y_train, y_test = train_test_split(x,y, test_size=test_size)\n",
        "\n",
        "  ## trian/validation split\n",
        "  X_train, X_val, y_train, y_val = train_test_split(X_train, y_train, test_size=validation_size)\n",
        "\n",
        "  ## array - dimension [num_steps-num of MFCCS slices we take, 13 - num_MFCCS at each snapshot, depth=1 fro audio dataset]\n",
        "\n",
        "  return X_train, X_val, X_test, y_train, y_val, y_test\n"
      ],
      "metadata": {
        "id": "tpK8SLr6VvRX"
      },
      "execution_count": 4,
      "outputs": []
    },
    {
      "cell_type": "code",
      "execution_count": 67,
      "metadata": {
        "colab": {
          "base_uri": "https://localhost:8080/"
        },
        "id": "aT8K7B-2Q58r",
        "outputId": "29092c73-8b63-4040-a248-2c1604b4cb1e"
      },
      "outputs": [
        {
          "output_type": "stream",
          "name": "stdout",
          "text": [
            "Model: \"sequential_3\"\n",
            "_________________________________________________________________\n",
            " Layer (type)                Output Shape              Param #   \n",
            "=================================================================\n",
            " lstm_6 (LSTM)               (None, 130, 64)           19968     \n",
            "                                                                 \n",
            " lstm_7 (LSTM)               (None, 64)                33024     \n",
            "                                                                 \n",
            " dense_4 (Dense)             (None, 64)                4160      \n",
            "                                                                 \n",
            " dropout_2 (Dropout)         (None, 64)                0         \n",
            "                                                                 \n",
            " dense_5 (Dense)             (None, 10)                650       \n",
            "                                                                 \n",
            "=================================================================\n",
            "Total params: 57802 (225.79 KB)\n",
            "Trainable params: 57802 (225.79 KB)\n",
            "Non-trainable params: 0 (0.00 Byte)\n",
            "_________________________________________________________________\n",
            "Epoch 1/30\n",
            "19/19 [==============================] - 7s 176ms/step - loss: 2.2833 - accuracy: 0.1304 - val_loss: 2.2786 - val_accuracy: 0.1600\n",
            "Epoch 2/30\n",
            "19/19 [==============================] - 3s 140ms/step - loss: 2.2564 - accuracy: 0.1505 - val_loss: 2.2419 - val_accuracy: 0.1933\n",
            "Epoch 3/30\n",
            "19/19 [==============================] - 3s 180ms/step - loss: 2.2200 - accuracy: 0.1890 - val_loss: 2.2125 - val_accuracy: 0.2267\n",
            "Epoch 4/30\n",
            "19/19 [==============================] - 2s 131ms/step - loss: 2.1798 - accuracy: 0.2224 - val_loss: 2.1794 - val_accuracy: 0.2667\n",
            "Epoch 5/30\n",
            "19/19 [==============================] - 2s 131ms/step - loss: 2.1392 - accuracy: 0.2525 - val_loss: 2.1430 - val_accuracy: 0.2733\n",
            "Epoch 6/30\n",
            "19/19 [==============================] - 2s 122ms/step - loss: 2.0946 - accuracy: 0.2943 - val_loss: 2.1037 - val_accuracy: 0.3067\n",
            "Epoch 7/30\n",
            "19/19 [==============================] - 3s 146ms/step - loss: 2.0419 - accuracy: 0.3060 - val_loss: 2.0609 - val_accuracy: 0.3000\n",
            "Epoch 8/30\n",
            "19/19 [==============================] - 3s 170ms/step - loss: 1.9984 - accuracy: 0.3077 - val_loss: 2.0154 - val_accuracy: 0.3267\n",
            "Epoch 9/30\n",
            "19/19 [==============================] - 2s 123ms/step - loss: 1.9466 - accuracy: 0.3278 - val_loss: 1.9617 - val_accuracy: 0.3467\n",
            "Epoch 10/30\n",
            "19/19 [==============================] - 2s 122ms/step - loss: 1.8848 - accuracy: 0.3361 - val_loss: 1.9073 - val_accuracy: 0.3533\n",
            "Epoch 11/30\n",
            "19/19 [==============================] - 2s 129ms/step - loss: 1.8416 - accuracy: 0.3378 - val_loss: 1.8567 - val_accuracy: 0.3800\n",
            "Epoch 12/30\n",
            "19/19 [==============================] - 3s 148ms/step - loss: 1.7877 - accuracy: 0.3746 - val_loss: 1.8024 - val_accuracy: 0.4200\n",
            "Epoch 13/30\n",
            "19/19 [==============================] - 3s 168ms/step - loss: 1.7386 - accuracy: 0.3779 - val_loss: 1.7428 - val_accuracy: 0.4333\n",
            "Epoch 14/30\n",
            "19/19 [==============================] - 2s 123ms/step - loss: 1.6509 - accuracy: 0.4214 - val_loss: 1.6716 - val_accuracy: 0.4867\n",
            "Epoch 15/30\n",
            "19/19 [==============================] - 2s 122ms/step - loss: 1.6035 - accuracy: 0.4381 - val_loss: 1.6116 - val_accuracy: 0.5000\n",
            "Epoch 16/30\n",
            "19/19 [==============================] - 2s 131ms/step - loss: 1.5398 - accuracy: 0.4816 - val_loss: 1.5353 - val_accuracy: 0.5133\n",
            "Epoch 17/30\n",
            "19/19 [==============================] - 3s 155ms/step - loss: 1.4727 - accuracy: 0.4983 - val_loss: 1.4654 - val_accuracy: 0.5533\n",
            "Epoch 18/30\n",
            "19/19 [==============================] - 3s 163ms/step - loss: 1.4337 - accuracy: 0.5067 - val_loss: 1.3967 - val_accuracy: 0.5800\n",
            "Epoch 19/30\n",
            "19/19 [==============================] - 2s 132ms/step - loss: 1.3711 - accuracy: 0.5619 - val_loss: 1.3481 - val_accuracy: 0.5933\n",
            "Epoch 20/30\n",
            "19/19 [==============================] - 2s 123ms/step - loss: 1.3206 - accuracy: 0.6020 - val_loss: 1.2778 - val_accuracy: 0.6333\n",
            "Epoch 21/30\n",
            "19/19 [==============================] - 2s 122ms/step - loss: 1.3061 - accuracy: 0.5786 - val_loss: 1.2288 - val_accuracy: 0.6267\n",
            "Epoch 22/30\n",
            "19/19 [==============================] - 3s 157ms/step - loss: 1.2349 - accuracy: 0.5903 - val_loss: 1.1845 - val_accuracy: 0.6533\n",
            "Epoch 23/30\n",
            "19/19 [==============================] - 3s 157ms/step - loss: 1.1719 - accuracy: 0.6187 - val_loss: 1.1480 - val_accuracy: 0.6600\n",
            "Epoch 24/30\n",
            "19/19 [==============================] - 2s 130ms/step - loss: 1.1665 - accuracy: 0.5987 - val_loss: 1.1174 - val_accuracy: 0.6467\n",
            "Epoch 25/30\n",
            "19/19 [==============================] - 2s 129ms/step - loss: 1.1022 - accuracy: 0.6438 - val_loss: 1.0852 - val_accuracy: 0.6600\n",
            "Epoch 26/30\n",
            "19/19 [==============================] - 2s 122ms/step - loss: 1.0648 - accuracy: 0.6773 - val_loss: 1.0374 - val_accuracy: 0.6800\n",
            "Epoch 27/30\n",
            "19/19 [==============================] - 3s 169ms/step - loss: 1.0144 - accuracy: 0.6856 - val_loss: 1.0003 - val_accuracy: 0.7067\n",
            "Epoch 28/30\n",
            "19/19 [==============================] - 3s 140ms/step - loss: 0.9904 - accuracy: 0.6873 - val_loss: 0.9964 - val_accuracy: 0.6867\n",
            "Epoch 29/30\n",
            "19/19 [==============================] - 2s 130ms/step - loss: 0.9673 - accuracy: 0.6890 - val_loss: 0.9516 - val_accuracy: 0.7067\n",
            "Epoch 30/30\n",
            "19/19 [==============================] - 2s 130ms/step - loss: 0.9518 - accuracy: 0.7124 - val_loss: 0.9390 - val_accuracy: 0.7333\n",
            "8/8 - 0s - loss: 1.0544 - accuracy: 0.6560 - 279ms/epoch - 35ms/step\n",
            "Test Accuracy :0.656000018119812\n"
          ]
        }
      ],
      "source": [
        "if __name__ == \"__main__\":\n",
        "\n",
        "  DATA_PATH = \"/content/data.json\"\n",
        "\n",
        "  ### create train, validation and test sets\n",
        "  X_train, X_validation, X_test, y_train, y_validation, y_test = prepare_datasets(0.25, 0.2)\n",
        "\n",
        "  ## build the CNN net\n",
        "  input_shape =(X_train.shape[1], X_train.shape[2])   ## [130-number of time slices/time steps we take MFCCS, 13- MFCCs]\n",
        "  model = build_model(input_shape)\n",
        "\n",
        "  ## compile the network\n",
        "  optimizer = keras.optimizers.Adam(learning_rate=0.0001)\n",
        "  model.compile(optimizer=optimizer,\n",
        "                loss='sparse_categorical_crossentropy',\n",
        "                metrics=['accuracy'])\n",
        "  model.summary()\n",
        "\n",
        "  # train the CNN\n",
        "  history = model.fit(X_train, y_train, validation_data=(X_validation,y_validation),\n",
        "            batch_size=32, epochs=30)\n",
        "\n",
        "\n",
        "  ## evaluate the CNN on the test set\n",
        "  test_error, test_accuracy = model.evaluate(X_test, y_test, verbose=2)\n",
        "  print(\"Test Accuracy :{}\".format(test_accuracy))\n",
        "\n"
      ]
    },
    {
      "cell_type": "code",
      "source": [
        "print(X_train.shape)\n",
        "print(y_train.shape)\n",
        "print(X_test.shape)\n",
        "print(y_test.shape)\n",
        "\n",
        "##  train(598,130,13)\n",
        "## (598,)\n",
        "## (250, 130, 13)\n",
        "## (250,)\n",
        "## 598 - how many data are there for training\n",
        "## 130 - we split 1 audio of 30 sec into 10 segments - so we have 10 segemnts and each segemnts have 13 MFCCs so 10*13 = 130 data samples/time steps\n",
        "## 13 - MFCCs for of each segments\n"
      ],
      "metadata": {
        "colab": {
          "base_uri": "https://localhost:8080/"
        },
        "id": "is7rYsuze5ty",
        "outputId": "185b9bcf-51da-47eb-ca9e-a44a626897b6"
      },
      "execution_count": 66,
      "outputs": [
        {
          "output_type": "stream",
          "name": "stdout",
          "text": [
            "(598, 130, 13)\n",
            "(598,)\n",
            "(250, 130, 13)\n",
            "(250,)\n"
          ]
        }
      ]
    },
    {
      "cell_type": "code",
      "source": [
        "## plot loss and accuracy for training and validation\n",
        "from matplotlib import pyplot as plt\n",
        "def plot_history(history):\n",
        "  fig, axs = plt.subplots(2)\n",
        "\n",
        "  ##create accuracy sub-plot\n",
        "  axs[0].plot(history.history[\"accuracy\"], label=\"Train Accuraccy\")\n",
        "  axs[0].plot(history.history[\"val_accuracy\"], label=\"Validation Accuraccy\")\n",
        "  axs[0].set_ylabel(\"Accuracy\")\n",
        "  # axs[0].set_xlabel(\"Epoch\")\n",
        "  axs[0].legend(loc=\"lower right\")\n",
        "  axs[0].set_title(\"Accuracy Plot\")\n",
        "\n",
        "  ##create loss sub-plot\n",
        "  axs[1].plot(history.history[\"loss\"], label=\"Train Loss\")\n",
        "  axs[1].plot(history.history[\"val_loss\"], label=\"Validation Loss\")\n",
        "  axs[1].set_ylabel(\"Loss\")\n",
        "  axs[1].set_xlabel(\"Epoch\")\n",
        "  axs[1].legend(loc=\"upper right\")\n",
        "  axs[1].set_title(\"Loss Plot\")\n",
        "\n",
        "  plt.show()\n",
        "\n",
        "plot_history(history)\n",
        "\n",
        "## from curve we can see model is under fit - model have not be trained to optimal limit - can be further trained- have not converged yet"
      ],
      "metadata": {
        "colab": {
          "base_uri": "https://localhost:8080/",
          "height": 472
        },
        "id": "aG5VqFQZVQDR",
        "outputId": "42b9627c-7822-4892-cb16-b668f9a2878a"
      },
      "execution_count": 68,
      "outputs": [
        {
          "output_type": "display_data",
          "data": {
            "text/plain": [
              "<Figure size 640x480 with 2 Axes>"
            ],
            "image/png": "[encoded data removed]"
          },
          "metadata": {}
        }
      ]
    },
    {
      "cell_type": "code",
      "source": [
        "## make prediction on sample\n",
        "\n",
        "def predict(model, X, y):\n",
        "  print(X.shape)\n",
        "  X = X[np.newaxis, ...]\n",
        "  print(X.shape)\n",
        "\n",
        "\n",
        "  predictions =  model.predict(X)\n",
        "  predict_index = np.argmax(predictions, axis=1)    ## get the index with highest value from index 1\n",
        "  print(\"Expected index :{} \\nPredicted index: {}\".format(y, predict_index))\n",
        "  return predict_index\n",
        "\n",
        "## list of music gerne\n",
        "maps = [\n",
        "        \"blues\",\n",
        "        \"classical\",\n",
        "        \"country\",\n",
        "        \"disco\",\n",
        "        \"hiphop\",\n",
        "        \"jazz\",\n",
        "        \"metal\",\n",
        "        \"pop\",\n",
        "        \"reggae\",\n",
        "        \"rock\"\n",
        "    ]\n",
        "\n",
        "X = X_test[100]\n",
        "y = y_test[100]\n",
        "\n",
        "## we have 250 test-set\n",
        "\n",
        "per_i = predict(model, X, y)\n",
        "print(\"\\n\\nExpected Genre : {} \\nPredicted Genre: {}\".format(maps[y], maps[per_i[0]]))\n"
      ],
      "metadata": {
        "colab": {
          "base_uri": "https://localhost:8080/"
        },
        "id": "X3S3pr2QfX06",
        "outputId": "edb99dc9-07ae-40a6-8645-1b8dd03a4368"
      },
      "execution_count": 72,
      "outputs": [
        {
          "output_type": "stream",
          "name": "stdout",
          "text": [
            "(130, 13)\n",
            "(1, 130, 13)\n",
            "1/1 [==============================] - 0s 31ms/step\n",
            "Expected index :6 \n",
            "Predicted index: [6]\n",
            "\n",
            "\n",
            "Expected Genre : metal \n",
            "Predicted Genre: metal\n"
          ]
        }
      ]
    },
    {
      "cell_type": "code",
      "source": [
        "X = X_test[200]\n",
        "y = y_test[200]\n",
        "per_i = predict(model, X, y)\n",
        "print(\"\\n\\nExpected Genre : {} \\nPredicted Genre: {}\".format(maps[y], maps[per_i[0]]))\n"
      ],
      "metadata": {
        "colab": {
          "base_uri": "https://localhost:8080/"
        },
        "id": "N0Pwn3rpjWOz",
        "outputId": "b8c78aab-becd-4733-baf5-680f202ed171"
      },
      "execution_count": 74,
      "outputs": [
        {
          "output_type": "stream",
          "name": "stdout",
          "text": [
            "(130, 13)\n",
            "(1, 130, 13)\n",
            "1/1 [==============================] - 0s 88ms/step\n",
            "Expected index :1 \n",
            "Predicted index: [1]\n",
            "\n",
            "\n",
            "Expected Genre : classical \n",
            "Predicted Genre: classical\n"
          ]
        }
      ]
    },
    {
      "cell_type": "code",
      "source": [
        "X = X_test[69]\n",
        "y = y_test[69]\n",
        "per_i = predict(model, X, y)\n",
        "print(\"\\n\\nExpected Genre : {} \\nPredicted Genre: {}\".format(maps[y], maps[per_i[0]]))\n"
      ],
      "metadata": {
        "colab": {
          "base_uri": "https://localhost:8080/"
        },
        "id": "zheJ1hAKkt8O",
        "outputId": "e219e9f6-994e-449d-a1fd-ec52059c5d98"
      },
      "execution_count": 78,
      "outputs": [
        {
          "output_type": "stream",
          "name": "stdout",
          "text": [
            "(130, 13)\n",
            "(1, 130, 13)\n",
            "1/1 [==============================] - 0s 35ms/step\n",
            "Expected index :5 \n",
            "Predicted index: [0]\n",
            "\n",
            "\n",
            "Expected Genre : jazz \n",
            "Predicted Genre: blues\n"
          ]
        }
      ]
    },
    {
      "cell_type": "code",
      "source": [],
      "metadata": {
        "id": "7aMUn2Knk1zm"
      },
      "execution_count": null,
      "outputs": []
    }
  ]
}